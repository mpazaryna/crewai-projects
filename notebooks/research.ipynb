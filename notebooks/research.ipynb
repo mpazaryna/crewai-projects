{
 "cells": [
  {
   "cell_type": "markdown",
   "metadata": {},
   "source": [
    "# L2: Create Agents to Research and Write an Article\n",
    "\n",
    "In this lesson, you will be introduced to the foundational concepts of multi-agent systems and get an overview of the crewAI framework."
   ]
  },
  {
   "cell_type": "markdown",
   "metadata": {},
   "source": [
    "The libraries are already installed in the classroom. If you're running this notebook on your own machine, you can install the following:\n",
    "```Python\n",
    "!pip install crewai==0.28.8 crewai_tools==0.1.6 langchain_community==0.0.29\n",
    "```"
   ]
  },
  {
   "cell_type": "code",
   "execution_count": 39,
   "metadata": {
    "height": 64
   },
   "outputs": [],
   "source": [
    "# Warning control\n",
    "import warnings\n",
    "warnings.filterwarnings('ignore')"
   ]
  },
  {
   "cell_type": "code",
   "execution_count": 40,
   "metadata": {
    "height": 30
   },
   "outputs": [],
   "source": [
    "from crewai import Agent, Task, Crew"
   ]
  },
  {
   "cell_type": "code",
   "execution_count": 41,
   "metadata": {},
   "outputs": [],
   "source": [
    "import os\n",
    "os.environ[\"OPENAI_MODEL_NAME\"] = 'gpt-3.5-turbo'\n",
    "# os.environ[\"OPENAI_API_KEY\"] = 'sk-'"
   ]
  },
  {
   "cell_type": "markdown",
   "metadata": {},
   "source": [
    "## Creating Agents\n",
    "\n",
    "- Define your Agents, and provide them a `role`, `goal` and `backstory`.\n",
    "- It has been seen that LLMs perform better when they are role playing."
   ]
  },
  {
   "cell_type": "markdown",
   "metadata": {},
   "source": [
    "### Agent: Planner\n"
   ]
  },
  {
   "cell_type": "code",
   "execution_count": 42,
   "metadata": {
    "height": 234
   },
   "outputs": [],
   "source": [
    "planner = Agent(\n",
    "    role=\"Content Planner\",\n",
    "    goal=\"Plan engaging and factually accurate content on {topic}\",\n",
    "    backstory=\"You're working on planning a blog article \"\n",
    "              \"about the topic: {topic}.\"\n",
    "              \"You collect information that helps the \"\n",
    "              \"audience learn something \"\n",
    "              \"and make informed decisions. \"\n",
    "              \"Your work is the basis for \"\n",
    "              \"the Content Writer to write an article on this topic.\",\n",
    "    allow_delegation=False,\n",
    "\tverbose=True\n",
    ")"
   ]
  },
  {
   "cell_type": "markdown",
   "metadata": {},
   "source": [
    "### Agent: Writer"
   ]
  },
  {
   "cell_type": "code",
   "execution_count": 43,
   "metadata": {
    "height": 370
   },
   "outputs": [],
   "source": [
    "writer = Agent(\n",
    "    role=\"Content Writer\",\n",
    "    goal=\"Write insightful and factually accurate \"\n",
    "         \"opinion piece about the topic: {topic}\",\n",
    "    backstory=\"You're working on a writing \"\n",
    "              \"a new opinion piece about the topic: {topic}. \"\n",
    "              \"You base your writing on the work of \"\n",
    "              \"the Content Planner, who provides an outline \"\n",
    "              \"and relevant context about the topic. \"\n",
    "              \"You follow the main objectives and \"\n",
    "              \"direction of the outline, \"\n",
    "              \"as provide by the Content Planner. \"\n",
    "              \"You also provide objective and impartial insights \"\n",
    "              \"and back them up with information \"\n",
    "              \"provide by the Content Planner. \"\n",
    "              \"You acknowledge in your opinion piece \"\n",
    "              \"when your statements are opinions \"\n",
    "              \"as opposed to objective statements.\",\n",
    "    allow_delegation=False,\n",
    "    verbose=True\n",
    ")"
   ]
  },
  {
   "cell_type": "markdown",
   "metadata": {},
   "source": [
    "### Agent: Editor"
   ]
  },
  {
   "cell_type": "code",
   "execution_count": 44,
   "metadata": {
    "height": 268
   },
   "outputs": [],
   "source": [
    "editor = Agent(\n",
    "    role=\"Editor\",\n",
    "    goal=\"Edit a given blog post to align with \"\n",
    "         \"the writing style of the organization. \",\n",
    "    backstory=\"You are an editor who receives a blog post \"\n",
    "              \"from the Content Writer. \"\n",
    "              \"Your goal is to review the blog post \"\n",
    "              \"to ensure that it follows journalistic best practices,\"\n",
    "              \"provides balanced viewpoints \"\n",
    "              \"when providing opinions or assertions, \"\n",
    "              \"and also avoids major controversial topics \"\n",
    "              \"or opinions when possible.\",\n",
    "    allow_delegation=False,\n",
    "    verbose=True\n",
    ")"
   ]
  },
  {
   "cell_type": "markdown",
   "metadata": {},
   "source": [
    "### Task: Plan"
   ]
  },
  {
   "cell_type": "code",
   "execution_count": 45,
   "metadata": {
    "height": 268
   },
   "outputs": [],
   "source": [
    "plan = Task(\n",
    "    description=(\n",
    "        \"1. Prioritize the latest trends, key players, \"\n",
    "            \"and noteworthy news on {topic}.\\n\"\n",
    "        \"2. Identify the target audience, considering \"\n",
    "            \"their interests and pain points.\\n\"\n",
    "        \"3. Develop a detailed content outline including \"\n",
    "            \"an introduction, key points, and a call to action.\\n\"\n",
    "        \"4. Include SEO keywords and relevant data or sources.\"\n",
    "    ),\n",
    "    expected_output=\"A comprehensive content plan document \"\n",
    "        \"with an outline, audience analysis, \"\n",
    "        \"SEO keywords, and resources.\",\n",
    "    agent=planner,\n",
    "    output_file=\"./output/plan.md\",\n",
    ")"
   ]
  },
  {
   "cell_type": "markdown",
   "metadata": {},
   "source": [
    "### Task: Write"
   ]
  },
  {
   "cell_type": "code",
   "execution_count": 46,
   "metadata": {
    "height": 319
   },
   "outputs": [],
   "source": [
    "write = Task(\n",
    "    description=(\n",
    "        \"1. Use the content plan to craft a compelling \"\n",
    "            \"blog post on {topic}.\\n\"\n",
    "        \"2. Incorporate SEO keywords naturally.\\n\"\n",
    "\t\t\"3. Sections/Subtitles are properly named \"\n",
    "            \"in an engaging manner.\\n\"\n",
    "        \"4. Ensure the post is structured with an \"\n",
    "            \"engaging introduction, insightful body, \"\n",
    "            \"and a summarizing conclusion.\\n\"\n",
    "        \"5. Proofread for grammatical errors and \"\n",
    "            \"alignment with the brand's voice.\\n\"\n",
    "    ),\n",
    "    expected_output=\"A well-written blog post \"\n",
    "        \"in markdown format, ready for publication, \"\n",
    "        \"each section should have 2 or 3 paragraphs.\",\n",
    "    agent=writer,\n",
    "    output_file=\"./output/write.md\",\n",
    ")"
   ]
  },
  {
   "cell_type": "markdown",
   "metadata": {},
   "source": [
    "### Task: Edit"
   ]
  },
  {
   "cell_type": "code",
   "execution_count": 47,
   "metadata": {
    "height": 166
   },
   "outputs": [],
   "source": [
    "edit = Task(\n",
    "    description=(\"Proofread the given blog post for \"\n",
    "                 \"grammatical errors and \"\n",
    "                 \"alignment with the brand's voice.\"),\n",
    "    expected_output=\"A well-written blog post in markdown format, \"\n",
    "                    \"ready for publication, \"\n",
    "                    \"each section should have 2 or 3 paragraphs.\",\n",
    "    agent=editor,\n",
    "    output_file=\"./output/edit.md\",\n",
    ")"
   ]
  },
  {
   "cell_type": "markdown",
   "metadata": {},
   "source": [
    "## Creating the Crew\n",
    "\n",
    "- Create your crew of Agents\n",
    "- Pass the tasks to be performed by those agents.\n",
    "    - **Note**: *For this simple example*, the tasks will be performed sequentially (i.e they are dependent on each other), so the _order_ of the task in the list _matters_.\n",
    "- `verbose=2` allows you to see all the logs of the execution. "
   ]
  },
  {
   "cell_type": "code",
   "execution_count": 48,
   "metadata": {
    "height": 98
   },
   "outputs": [
    {
     "name": "stderr",
     "output_type": "stream",
     "text": [
      "2024-05-24 10:31:08,736 - 140704717815744 - __init__.py-__init__:518 - WARNING: Overriding of current TracerProvider is not allowed\n"
     ]
    }
   ],
   "source": [
    "crew = Crew(\n",
    "    agents=[planner, writer, editor],\n",
    "    tasks=[plan, write, edit],\n",
    "    verbose=2\n",
    ")"
   ]
  },
  {
   "cell_type": "markdown",
   "metadata": {},
   "source": [
    "## Running the Crew"
   ]
  },
  {
   "cell_type": "markdown",
   "metadata": {},
   "source": [
    "**Note**: LLMs can provide different outputs for they same input, so what you get might be different than what you see in the video."
   ]
  },
  {
   "cell_type": "code",
   "execution_count": 49,
   "metadata": {
    "height": 30
   },
   "outputs": [
    {
     "name": "stdout",
     "output_type": "stream",
     "text": [
      "\u001b[1m\u001b[95m [DEBUG]: == Working Agent: Content Planner\u001b[00m\n",
      "\u001b[1m\u001b[95m [INFO]: == Starting Task: 1. Prioritize the latest trends, key players, and noteworthy news on Beach Yoga for new students..\n",
      "2. Identify the target audience, considering their interests and pain points.\n",
      "3. Develop a detailed content outline including an introduction, key points, and a call to action.\n",
      "4. Include SEO keywords and relevant data or sources.\u001b[00m\n",
      "\n",
      "\n",
      "\u001b[1m> Entering new CrewAgentExecutor chain...\u001b[0m\n",
      "\u001b[32;1m\u001b[1;3mI now can give a great answer\n",
      "\n",
      "Final Answer:\n",
      "Title: The Ultimate Guide to Beach Yoga for New Students\n",
      "\n",
      "Introduction:\n",
      "- Brief overview of the benefits of practicing yoga on the beach\n",
      "- Importance of starting a yoga practice as a new student \n",
      "- Mention of key players in the beach yoga industry\n",
      "\n",
      "Key Points:\n",
      "1. Latest Trends in Beach Yoga for New Students\n",
      "- Rise in popularity of beach yoga retreats and classes\n",
      "- Incorporating elements of nature into yoga practice\n",
      "- Benefits of practicing yoga on the beach for mental and physical health\n",
      "\n",
      "2. Key Players in Beach Yoga for New Students\n",
      "- Well-known yoga instructors offering beach yoga classes\n",
      "- Popular beach yoga destinations around the world\n",
      "- Testimonials from new students who have experienced beach yoga\n",
      "\n",
      "3. Noteworthy News in Beach Yoga for New Students\n",
      "- Recent studies on the positive effects of beach yoga on stress reduction\n",
      "- Events and workshops for new students to join and learn about beach yoga\n",
      "- Tips for new students on how to prepare for their first beach yoga experience\n",
      "\n",
      "Audience Analysis:\n",
      "- Target audience: Individuals new to yoga who are interested in trying beach yoga\n",
      "- Interests: Health and wellness, outdoor activities, stress relief, mindfulness\n",
      "- Pain points: Feeling overwhelmed by traditional yoga studios, looking for a unique and relaxing yoga experience, seeking a sense of community and connection\n",
      "\n",
      "SEO Keywords:\n",
      "- Beach yoga for beginners\n",
      "- Best beach yoga classes\n",
      "- Benefits of beach yoga\n",
      "- New student yoga tips\n",
      "- Beach yoga retreats\n",
      "\n",
      "Resources:\n",
      "- Articles from reputable yoga websites such as Yoga Journal and Yoga International\n",
      "- Interviews with experienced beach yoga instructors and practitioners\n",
      "- Research studies on the effects of practicing yoga in natural environments\n",
      "\n",
      "Overall, this comprehensive content plan aims to provide valuable information and guidance for new students interested in trying beach yoga. By incorporating the latest trends, key players, and noteworthy news in the beach yoga industry, along with an in-depth audience analysis and relevant SEO keywords, the final article will be engaging and informative for readers looking to embark on their yoga journey by the sea.\u001b[0m\n",
      "\n",
      "\u001b[1m> Finished chain.\u001b[0m\n",
      "\u001b[1m\u001b[92m [DEBUG]: == [Content Planner] Task output: Title: The Ultimate Guide to Beach Yoga for New Students\n",
      "\n",
      "Introduction:\n",
      "- Brief overview of the benefits of practicing yoga on the beach\n",
      "- Importance of starting a yoga practice as a new student \n",
      "- Mention of key players in the beach yoga industry\n",
      "\n",
      "Key Points:\n",
      "1. Latest Trends in Beach Yoga for New Students\n",
      "- Rise in popularity of beach yoga retreats and classes\n",
      "- Incorporating elements of nature into yoga practice\n",
      "- Benefits of practicing yoga on the beach for mental and physical health\n",
      "\n",
      "2. Key Players in Beach Yoga for New Students\n",
      "- Well-known yoga instructors offering beach yoga classes\n",
      "- Popular beach yoga destinations around the world\n",
      "- Testimonials from new students who have experienced beach yoga\n",
      "\n",
      "3. Noteworthy News in Beach Yoga for New Students\n",
      "- Recent studies on the positive effects of beach yoga on stress reduction\n",
      "- Events and workshops for new students to join and learn about beach yoga\n",
      "- Tips for new students on how to prepare for their first beach yoga experience\n",
      "\n",
      "Audience Analysis:\n",
      "- Target audience: Individuals new to yoga who are interested in trying beach yoga\n",
      "- Interests: Health and wellness, outdoor activities, stress relief, mindfulness\n",
      "- Pain points: Feeling overwhelmed by traditional yoga studios, looking for a unique and relaxing yoga experience, seeking a sense of community and connection\n",
      "\n",
      "SEO Keywords:\n",
      "- Beach yoga for beginners\n",
      "- Best beach yoga classes\n",
      "- Benefits of beach yoga\n",
      "- New student yoga tips\n",
      "- Beach yoga retreats\n",
      "\n",
      "Resources:\n",
      "- Articles from reputable yoga websites such as Yoga Journal and Yoga International\n",
      "- Interviews with experienced beach yoga instructors and practitioners\n",
      "- Research studies on the effects of practicing yoga in natural environments\n",
      "\n",
      "Overall, this comprehensive content plan aims to provide valuable information and guidance for new students interested in trying beach yoga. By incorporating the latest trends, key players, and noteworthy news in the beach yoga industry, along with an in-depth audience analysis and relevant SEO keywords, the final article will be engaging and informative for readers looking to embark on their yoga journey by the sea.\n",
      "\n",
      "\u001b[00m\n",
      "\u001b[1m\u001b[95m [DEBUG]: == Working Agent: Content Writer\u001b[00m\n",
      "\u001b[1m\u001b[95m [INFO]: == Starting Task: 1. Use the content plan to craft a compelling blog post on Beach Yoga for new students..\n",
      "2. Incorporate SEO keywords naturally.\n",
      "3. Sections/Subtitles are properly named in an engaging manner.\n",
      "4. Ensure the post is structured with an engaging introduction, insightful body, and a summarizing conclusion.\n",
      "5. Proofread for grammatical errors and alignment with the brand's voice.\n",
      "\u001b[00m\n",
      "\n",
      "\n",
      "\u001b[1m> Entering new CrewAgentExecutor chain...\u001b[0m\n",
      "\u001b[32;1m\u001b[1;3mI now can give a great answer\n",
      "\n",
      "Final Answer:\n",
      "\n",
      "# The Ultimate Guide to Beach Yoga for New Students\n",
      "\n",
      "## Introduction\n",
      "Are you a new student looking to explore the world of yoga in a unique and serene environment? Look no further than beach yoga! Practicing yoga on the beach offers a multitude of benefits for both the mind and body, making it an ideal choice for beginners. Not only does it provide an opportunity to connect with nature, but it also allows for a sense of calm and relaxation that is hard to find in a traditional studio setting. In this ultimate guide, we will delve into the world of beach yoga for new students, exploring the latest trends, key players in the industry, and noteworthy news to help you prepare for your first beach yoga experience.\n",
      "\n",
      "## Latest Trends in Beach Yoga for New Students\n",
      "In recent years, beach yoga has experienced a surge in popularity, with more and more individuals opting to attend beach yoga retreats and classes. The allure of practicing yoga on the beach lies in the ability to incorporate elements of nature into your practice, from the sound of crashing waves to the feel of sand beneath your feet. This unique environment not only enhances the physical benefits of yoga but also promotes mental well-being. The combination of movement, breath, and the great outdoors creates a holistic experience that can leave new students feeling rejuvenated and at peace.\n",
      "\n",
      "## Key Players in Beach Yoga for New Students\n",
      "As you embark on your beach yoga journey, you may come across well-known yoga instructors who offer beach yoga classes in popular destinations around the world. These instructors are experienced in guiding new students through their practice, ensuring a safe and enjoyable experience by the sea. Additionally, you may encounter testimonials from new students who have experienced beach yoga firsthand, sharing their transformative experiences and the sense of community they have found through their practice. By learning from these key players in the beach yoga industry, new students can gain valuable insights and encouragement as they explore this unique form of yoga.\n",
      "\n",
      "## Noteworthy News in Beach Yoga for New Students\n",
      "Recent studies have highlighted the positive effects of beach yoga on stress reduction, showcasing the potential for this practice to promote mental and emotional well-being. In addition to research findings, there are a variety of events and workshops tailored specifically for new students to join and learn more about beach yoga. These opportunities provide a chance to connect with like-minded individuals, deepen your practice, and immerse yourself in the beauty of the beach environment. For new students preparing for their first beach yoga experience, there are tips available to help you feel confident and ready to embrace this transformative practice.\n",
      "\n",
      "In conclusion, beach yoga offers a unique and refreshing approach to yoga practice for new students. By exploring the latest trends, connecting with key players in the industry, and staying informed on noteworthy news, new students can embark on their beach yoga journey with confidence and enthusiasm. Whether you are seeking stress relief, physical wellness, or a sense of community, beach yoga has something to offer for everyone. So grab your mat, head to the nearest beach, and experience the magic of beach yoga for yourself. Namaste.\u001b[0m\n",
      "\n",
      "\u001b[1m> Finished chain.\u001b[0m\n",
      "\u001b[1m\u001b[92m [DEBUG]: == [Content Writer] Task output: # The Ultimate Guide to Beach Yoga for New Students\n",
      "\n",
      "## Introduction\n",
      "Are you a new student looking to explore the world of yoga in a unique and serene environment? Look no further than beach yoga! Practicing yoga on the beach offers a multitude of benefits for both the mind and body, making it an ideal choice for beginners. Not only does it provide an opportunity to connect with nature, but it also allows for a sense of calm and relaxation that is hard to find in a traditional studio setting. In this ultimate guide, we will delve into the world of beach yoga for new students, exploring the latest trends, key players in the industry, and noteworthy news to help you prepare for your first beach yoga experience.\n",
      "\n",
      "## Latest Trends in Beach Yoga for New Students\n",
      "In recent years, beach yoga has experienced a surge in popularity, with more and more individuals opting to attend beach yoga retreats and classes. The allure of practicing yoga on the beach lies in the ability to incorporate elements of nature into your practice, from the sound of crashing waves to the feel of sand beneath your feet. This unique environment not only enhances the physical benefits of yoga but also promotes mental well-being. The combination of movement, breath, and the great outdoors creates a holistic experience that can leave new students feeling rejuvenated and at peace.\n",
      "\n",
      "## Key Players in Beach Yoga for New Students\n",
      "As you embark on your beach yoga journey, you may come across well-known yoga instructors who offer beach yoga classes in popular destinations around the world. These instructors are experienced in guiding new students through their practice, ensuring a safe and enjoyable experience by the sea. Additionally, you may encounter testimonials from new students who have experienced beach yoga firsthand, sharing their transformative experiences and the sense of community they have found through their practice. By learning from these key players in the beach yoga industry, new students can gain valuable insights and encouragement as they explore this unique form of yoga.\n",
      "\n",
      "## Noteworthy News in Beach Yoga for New Students\n",
      "Recent studies have highlighted the positive effects of beach yoga on stress reduction, showcasing the potential for this practice to promote mental and emotional well-being. In addition to research findings, there are a variety of events and workshops tailored specifically for new students to join and learn more about beach yoga. These opportunities provide a chance to connect with like-minded individuals, deepen your practice, and immerse yourself in the beauty of the beach environment. For new students preparing for their first beach yoga experience, there are tips available to help you feel confident and ready to embrace this transformative practice.\n",
      "\n",
      "In conclusion, beach yoga offers a unique and refreshing approach to yoga practice for new students. By exploring the latest trends, connecting with key players in the industry, and staying informed on noteworthy news, new students can embark on their beach yoga journey with confidence and enthusiasm. Whether you are seeking stress relief, physical wellness, or a sense of community, beach yoga has something to offer for everyone. So grab your mat, head to the nearest beach, and experience the magic of beach yoga for yourself. Namaste.\n",
      "\n",
      "\u001b[00m\n",
      "\u001b[1m\u001b[95m [DEBUG]: == Working Agent: Editor\u001b[00m\n",
      "\u001b[1m\u001b[95m [INFO]: == Starting Task: Proofread the given blog post for grammatical errors and alignment with the brand's voice.\u001b[00m\n",
      "\n",
      "\n",
      "\u001b[1m> Entering new CrewAgentExecutor chain...\u001b[0m\n",
      "\u001b[32;1m\u001b[1;3mI now can give a great answer\n",
      "\n",
      "Final Answer:\n",
      "# The Ultimate Guide to Beach Yoga for New Students\n",
      "\n",
      "## Introduction\n",
      "Are you a new student looking to explore the world of yoga in a unique and serene environment? Look no further than beach yoga! Practicing yoga on the beach offers a multitude of benefits for both the mind and body, making it an ideal choice for beginners. Not only does it provide an opportunity to connect with nature, but it also allows for a sense of calm and relaxation that is hard to find in a traditional studio setting. In this ultimate guide, we will delve into the world of beach yoga for new students, exploring the latest trends, key players in the industry, and noteworthy news to help you prepare for your first beach yoga experience.\n",
      "\n",
      "## Latest Trends in Beach Yoga for New Students\n",
      "In recent years, beach yoga has experienced a surge in popularity, with more and more individuals opting to attend beach yoga retreats and classes. The allure of practicing yoga on the beach lies in the ability to incorporate elements of nature into your practice, from the sound of crashing waves to the feel of sand beneath your feet. This unique environment not only enhances the physical benefits of yoga but also promotes mental well-being. The combination of movement, breath, and the great outdoors creates a holistic experience that can leave new students feeling rejuvenated and at peace.\n",
      "\n",
      "## Key Players in Beach Yoga for New Students\n",
      "As you embark on your beach yoga journey, you may come across well-known yoga instructors who offer beach yoga classes in popular destinations around the world. These instructors are experienced in guiding new students through their practice, ensuring a safe and enjoyable experience by the sea. Additionally, you may encounter testimonials from new students who have experienced beach yoga firsthand, sharing their transformative experiences and the sense of community they have found through their practice. By learning from these key players in the beach yoga industry, new students can gain valuable insights and encouragement as they explore this unique form of yoga.\n",
      "\n",
      "## Noteworthy News in Beach Yoga for New Students\n",
      "Recent studies have highlighted the positive effects of beach yoga on stress reduction, showcasing the potential for this practice to promote mental and emotional well-being. In addition to research findings, there are a variety of events and workshops tailored specifically for new students to join and learn more about beach yoga. These opportunities provide a chance to connect with like-minded individuals, deepen your practice, and immerse yourself in the beauty of the beach environment. For new students preparing for their first beach yoga experience, there are tips available to help you feel confident and ready to embrace this transformative practice.\n",
      "\n",
      "In conclusion, beach yoga offers a unique and refreshing approach to yoga practice for new students. By exploring the latest trends, connecting with key players in the industry, and staying informed on noteworthy news, new students can embark on their beach yoga journey with confidence and enthusiasm. Whether you are seeking stress relief, physical wellness, or a sense of community, beach yoga has something to offer for everyone. So grab your mat, head to the nearest beach, and experience the magic of beach yoga for yourself. Namaste.\u001b[0m\n",
      "\n",
      "\u001b[1m> Finished chain.\u001b[0m\n",
      "\u001b[1m\u001b[92m [DEBUG]: == [Editor] Task output: # The Ultimate Guide to Beach Yoga for New Students\n",
      "\n",
      "## Introduction\n",
      "Are you a new student looking to explore the world of yoga in a unique and serene environment? Look no further than beach yoga! Practicing yoga on the beach offers a multitude of benefits for both the mind and body, making it an ideal choice for beginners. Not only does it provide an opportunity to connect with nature, but it also allows for a sense of calm and relaxation that is hard to find in a traditional studio setting. In this ultimate guide, we will delve into the world of beach yoga for new students, exploring the latest trends, key players in the industry, and noteworthy news to help you prepare for your first beach yoga experience.\n",
      "\n",
      "## Latest Trends in Beach Yoga for New Students\n",
      "In recent years, beach yoga has experienced a surge in popularity, with more and more individuals opting to attend beach yoga retreats and classes. The allure of practicing yoga on the beach lies in the ability to incorporate elements of nature into your practice, from the sound of crashing waves to the feel of sand beneath your feet. This unique environment not only enhances the physical benefits of yoga but also promotes mental well-being. The combination of movement, breath, and the great outdoors creates a holistic experience that can leave new students feeling rejuvenated and at peace.\n",
      "\n",
      "## Key Players in Beach Yoga for New Students\n",
      "As you embark on your beach yoga journey, you may come across well-known yoga instructors who offer beach yoga classes in popular destinations around the world. These instructors are experienced in guiding new students through their practice, ensuring a safe and enjoyable experience by the sea. Additionally, you may encounter testimonials from new students who have experienced beach yoga firsthand, sharing their transformative experiences and the sense of community they have found through their practice. By learning from these key players in the beach yoga industry, new students can gain valuable insights and encouragement as they explore this unique form of yoga.\n",
      "\n",
      "## Noteworthy News in Beach Yoga for New Students\n",
      "Recent studies have highlighted the positive effects of beach yoga on stress reduction, showcasing the potential for this practice to promote mental and emotional well-being. In addition to research findings, there are a variety of events and workshops tailored specifically for new students to join and learn more about beach yoga. These opportunities provide a chance to connect with like-minded individuals, deepen your practice, and immerse yourself in the beauty of the beach environment. For new students preparing for their first beach yoga experience, there are tips available to help you feel confident and ready to embrace this transformative practice.\n",
      "\n",
      "In conclusion, beach yoga offers a unique and refreshing approach to yoga practice for new students. By exploring the latest trends, connecting with key players in the industry, and staying informed on noteworthy news, new students can embark on their beach yoga journey with confidence and enthusiasm. Whether you are seeking stress relief, physical wellness, or a sense of community, beach yoga has something to offer for everyone. So grab your mat, head to the nearest beach, and experience the magic of beach yoga for yourself. Namaste.\n",
      "\n",
      "\u001b[00m\n"
     ]
    }
   ],
   "source": [
    "result = crew.kickoff(inputs={\"topic\":\"Beach Yoga for new students.\"})"
   ]
  },
  {
   "cell_type": "markdown",
   "metadata": {},
   "source": [
    "- Display the results of your execution as markdown in the notebook."
   ]
  },
  {
   "cell_type": "code",
   "execution_count": 50,
   "metadata": {
    "height": 47
   },
   "outputs": [
    {
     "data": {
      "text/markdown": [
       "# The Ultimate Guide to Beach Yoga for New Students\n",
       "\n",
       "## Introduction\n",
       "Are you a new student looking to explore the world of yoga in a unique and serene environment? Look no further than beach yoga! Practicing yoga on the beach offers a multitude of benefits for both the mind and body, making it an ideal choice for beginners. Not only does it provide an opportunity to connect with nature, but it also allows for a sense of calm and relaxation that is hard to find in a traditional studio setting. In this ultimate guide, we will delve into the world of beach yoga for new students, exploring the latest trends, key players in the industry, and noteworthy news to help you prepare for your first beach yoga experience.\n",
       "\n",
       "## Latest Trends in Beach Yoga for New Students\n",
       "In recent years, beach yoga has experienced a surge in popularity, with more and more individuals opting to attend beach yoga retreats and classes. The allure of practicing yoga on the beach lies in the ability to incorporate elements of nature into your practice, from the sound of crashing waves to the feel of sand beneath your feet. This unique environment not only enhances the physical benefits of yoga but also promotes mental well-being. The combination of movement, breath, and the great outdoors creates a holistic experience that can leave new students feeling rejuvenated and at peace.\n",
       "\n",
       "## Key Players in Beach Yoga for New Students\n",
       "As you embark on your beach yoga journey, you may come across well-known yoga instructors who offer beach yoga classes in popular destinations around the world. These instructors are experienced in guiding new students through their practice, ensuring a safe and enjoyable experience by the sea. Additionally, you may encounter testimonials from new students who have experienced beach yoga firsthand, sharing their transformative experiences and the sense of community they have found through their practice. By learning from these key players in the beach yoga industry, new students can gain valuable insights and encouragement as they explore this unique form of yoga.\n",
       "\n",
       "## Noteworthy News in Beach Yoga for New Students\n",
       "Recent studies have highlighted the positive effects of beach yoga on stress reduction, showcasing the potential for this practice to promote mental and emotional well-being. In addition to research findings, there are a variety of events and workshops tailored specifically for new students to join and learn more about beach yoga. These opportunities provide a chance to connect with like-minded individuals, deepen your practice, and immerse yourself in the beauty of the beach environment. For new students preparing for their first beach yoga experience, there are tips available to help you feel confident and ready to embrace this transformative practice.\n",
       "\n",
       "In conclusion, beach yoga offers a unique and refreshing approach to yoga practice for new students. By exploring the latest trends, connecting with key players in the industry, and staying informed on noteworthy news, new students can embark on their beach yoga journey with confidence and enthusiasm. Whether you are seeking stress relief, physical wellness, or a sense of community, beach yoga has something to offer for everyone. So grab your mat, head to the nearest beach, and experience the magic of beach yoga for yourself. Namaste."
      ],
      "text/plain": [
       "<IPython.core.display.Markdown object>"
      ]
     },
     "execution_count": 50,
     "metadata": {},
     "output_type": "execute_result"
    }
   ],
   "source": [
    "from IPython.display import Markdown\n",
    "Markdown(result)"
   ]
  }
 ],
 "metadata": {
  "colab": {
   "gpuType": "T4",
   "provenance": []
  },
  "kernelspec": {
   "display_name": "Python 3 (ipykernel)",
   "language": "python",
   "name": "python3"
  },
  "language_info": {
   "codemirror_mode": {
    "name": "ipython",
    "version": 3
   },
   "file_extension": ".py",
   "mimetype": "text/x-python",
   "name": "python",
   "nbconvert_exporter": "python",
   "pygments_lexer": "ipython3",
   "version": "3.11.8"
  }
 },
 "nbformat": 4,
 "nbformat_minor": 4
}
