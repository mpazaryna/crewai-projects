{
 "cells": [
  {
   "cell_type": "markdown",
   "metadata": {},
   "source": [
    "# L2: Create Agents to Research and Write an Article\n",
    "\n",
    "In this lesson, you will be introduced to the foundational concepts of multi-agent systems and get an overview of the crewAI framework."
   ]
  },
  {
   "cell_type": "markdown",
   "metadata": {},
   "source": [
    "The libraries are already installed in the classroom. If you're running this notebook on your own machine, you can install the following:\n",
    "```Python\n",
    "!pip install crewai==0.28.8 crewai_tools==0.1.6 langchain_community==0.0.29\n",
    "```"
   ]
  },
  {
   "cell_type": "code",
   "execution_count": 1,
   "metadata": {
    "height": 64
   },
   "outputs": [],
   "source": [
    "# Warning control\n",
    "import warnings\n",
    "warnings.filterwarnings('ignore')"
   ]
  },
  {
   "cell_type": "code",
   "execution_count": 2,
   "metadata": {
    "height": 30
   },
   "outputs": [],
   "source": [
    "from crewai import Agent, Task, Crew"
   ]
  },
  {
   "cell_type": "code",
   "execution_count": 5,
   "metadata": {},
   "outputs": [],
   "source": [
    "import os\n",
    "os.environ[\"OPENAI_MODEL_NAME\"] = 'gpt-3.5-turbo'\n",
    "# os.environ[\"OPENAI_API_KEY\"] = 'sk-'"
   ]
  },
  {
   "cell_type": "markdown",
   "metadata": {},
   "source": [
    "## Creating Agents\n",
    "\n",
    "- Define your Agents, and provide them a `role`, `goal` and `backstory`.\n",
    "- It has been seen that LLMs perform better when they are role playing."
   ]
  },
  {
   "cell_type": "markdown",
   "metadata": {},
   "source": [
    "### Agent: Planner\n"
   ]
  },
  {
   "cell_type": "code",
   "execution_count": 6,
   "metadata": {
    "height": 234
   },
   "outputs": [],
   "source": [
    "planner = Agent(\n",
    "    role=\"Content Planner\",\n",
    "    goal=\"Plan engaging and factually accurate content on {topic}\",\n",
    "    backstory=\"You're working on planning a blog article \"\n",
    "              \"about the topic: {topic}.\"\n",
    "              \"You collect information that helps the \"\n",
    "              \"audience learn something \"\n",
    "              \"and make informed decisions. \"\n",
    "              \"Your work is the basis for \"\n",
    "              \"the Content Writer to write an article on this topic.\",\n",
    "    allow_delegation=False,\n",
    "\tverbose=True\n",
    ")"
   ]
  },
  {
   "cell_type": "markdown",
   "metadata": {},
   "source": [
    "### Agent: Writer"
   ]
  },
  {
   "cell_type": "code",
   "execution_count": 7,
   "metadata": {
    "height": 370
   },
   "outputs": [],
   "source": [
    "writer = Agent(\n",
    "    role=\"Content Writer\",\n",
    "    goal=\"Write insightful and factually accurate \"\n",
    "         \"opinion piece about the topic: {topic}\",\n",
    "    backstory=\"You're working on a writing \"\n",
    "              \"a new opinion piece about the topic: {topic}. \"\n",
    "              \"You base your writing on the work of \"\n",
    "              \"the Content Planner, who provides an outline \"\n",
    "              \"and relevant context about the topic. \"\n",
    "              \"You follow the main objectives and \"\n",
    "              \"direction of the outline, \"\n",
    "              \"as provide by the Content Planner. \"\n",
    "              \"You also provide objective and impartial insights \"\n",
    "              \"and back them up with information \"\n",
    "              \"provide by the Content Planner. \"\n",
    "              \"You acknowledge in your opinion piece \"\n",
    "              \"when your statements are opinions \"\n",
    "              \"as opposed to objective statements.\",\n",
    "    allow_delegation=False,\n",
    "    verbose=True\n",
    ")"
   ]
  },
  {
   "cell_type": "markdown",
   "metadata": {},
   "source": [
    "### Agent: Editor"
   ]
  },
  {
   "cell_type": "code",
   "execution_count": 8,
   "metadata": {
    "height": 268
   },
   "outputs": [],
   "source": [
    "editor = Agent(\n",
    "    role=\"Editor\",\n",
    "    goal=\"Edit a given blog post to align with \"\n",
    "         \"the writing style of the organization. \",\n",
    "    backstory=\"You are an editor who receives a blog post \"\n",
    "              \"from the Content Writer. \"\n",
    "              \"Your goal is to review the blog post \"\n",
    "              \"to ensure that it follows journalistic best practices,\"\n",
    "              \"provides balanced viewpoints \"\n",
    "              \"when providing opinions or assertions, \"\n",
    "              \"and also avoids major controversial topics \"\n",
    "              \"or opinions when possible.\",\n",
    "    allow_delegation=False,\n",
    "    verbose=True\n",
    ")"
   ]
  },
  {
   "cell_type": "markdown",
   "metadata": {},
   "source": [
    "### Task: Plan"
   ]
  },
  {
   "cell_type": "code",
   "execution_count": 9,
   "metadata": {
    "height": 268
   },
   "outputs": [],
   "source": [
    "plan = Task(\n",
    "    description=(\n",
    "        \"1. Prioritize the latest trends, key players, \"\n",
    "            \"and noteworthy news on {topic}.\\n\"\n",
    "        \"2. Identify the target audience, considering \"\n",
    "            \"their interests and pain points.\\n\"\n",
    "        \"3. Develop a detailed content outline including \"\n",
    "            \"an introduction, key points, and a call to action.\\n\"\n",
    "        \"4. Include SEO keywords and relevant data or sources.\"\n",
    "    ),\n",
    "    expected_output=\"A comprehensive content plan document \"\n",
    "        \"with an outline, audience analysis, \"\n",
    "        \"SEO keywords, and resources.\",\n",
    "    agent=planner,\n",
    "    output_file=\"plan-gpt-3.5-turbo.md\",\n",
    ")"
   ]
  },
  {
   "cell_type": "markdown",
   "metadata": {},
   "source": [
    "### Task: Write"
   ]
  },
  {
   "cell_type": "code",
   "execution_count": 10,
   "metadata": {
    "height": 319
   },
   "outputs": [],
   "source": [
    "write = Task(\n",
    "    description=(\n",
    "        \"1. Use the content plan to craft a compelling \"\n",
    "            \"blog post on {topic}.\\n\"\n",
    "        \"2. Incorporate SEO keywords naturally.\\n\"\n",
    "\t\t\"3. Sections/Subtitles are properly named \"\n",
    "            \"in an engaging manner.\\n\"\n",
    "        \"4. Ensure the post is structured with an \"\n",
    "            \"engaging introduction, insightful body, \"\n",
    "            \"and a summarizing conclusion.\\n\"\n",
    "        \"5. Proofread for grammatical errors and \"\n",
    "            \"alignment with the brand's voice.\\n\"\n",
    "    ),\n",
    "    expected_output=\"A well-written blog post \"\n",
    "        \"in markdown format, ready for publication, \"\n",
    "        \"each section should have 2 or 3 paragraphs.\",\n",
    "    agent=writer,\n",
    "    output_file=\"write-gpt-3.5-turbo.md\",\n",
    ")"
   ]
  },
  {
   "cell_type": "markdown",
   "metadata": {},
   "source": [
    "### Task: Edit"
   ]
  },
  {
   "cell_type": "code",
   "execution_count": 11,
   "metadata": {
    "height": 166
   },
   "outputs": [],
   "source": [
    "edit = Task(\n",
    "    description=(\"Proofread the given blog post for \"\n",
    "                 \"grammatical errors and \"\n",
    "                 \"alignment with the brand's voice.\"),\n",
    "    expected_output=\"A well-written blog post in markdown format, \"\n",
    "                    \"ready for publication, \"\n",
    "                    \"each section should have 2 or 3 paragraphs.\",\n",
    "    agent=editor,\n",
    "    output_file=\"task_edit.md\",\n",
    ")"
   ]
  },
  {
   "cell_type": "markdown",
   "metadata": {},
   "source": [
    "## Creating the Crew\n",
    "\n",
    "- Create your crew of Agents\n",
    "- Pass the tasks to be performed by those agents.\n",
    "    - **Note**: *For this simple example*, the tasks will be performed sequentially (i.e they are dependent on each other), so the _order_ of the task in the list _matters_.\n",
    "- `verbose=2` allows you to see all the logs of the execution. "
   ]
  },
  {
   "cell_type": "code",
   "execution_count": 12,
   "metadata": {
    "height": 98
   },
   "outputs": [],
   "source": [
    "crew = Crew(\n",
    "    agents=[planner, writer, editor],\n",
    "    tasks=[plan, write, edit],\n",
    "    verbose=2\n",
    ")"
   ]
  },
  {
   "cell_type": "markdown",
   "metadata": {},
   "source": [
    "## Running the Crew"
   ]
  },
  {
   "cell_type": "markdown",
   "metadata": {},
   "source": [
    "**Note**: LLMs can provide different outputs for they same input, so what you get might be different than what you see in the video."
   ]
  },
  {
   "cell_type": "code",
   "execution_count": 13,
   "metadata": {
    "height": 30
   },
   "outputs": [
    {
     "name": "stdout",
     "output_type": "stream",
     "text": [
      "\u001b[1m\u001b[95m [DEBUG]: == Working Agent: Content Planner\u001b[00m\n",
      "\u001b[1m\u001b[95m [INFO]: == Starting Task: 1. Prioritize the latest trends, key players, and noteworthy news on Building a new product with the assitance of AI..\n",
      "2. Identify the target audience, considering their interests and pain points.\n",
      "3. Develop a detailed content outline including an introduction, key points, and a call to action.\n",
      "4. Include SEO keywords and relevant data or sources.\u001b[00m\n",
      "\n",
      "\n",
      "\u001b[1m> Entering new CrewAgentExecutor chain...\u001b[0m\n",
      "\u001b[32;1m\u001b[1;3mI now can give a great answer\n",
      "\n",
      "Final Answer: \n",
      "\n",
      "Content Plan: Building a New Product with the Assistance of AI\n",
      "\n",
      "Outline:\n",
      "I. Introduction\n",
      "- Brief overview of the growing trend of using AI in product development\n",
      "- Importance of leveraging AI technology in creating innovative products\n",
      "II. Latest Trends in AI-assisted Product Development\n",
      "- Examples of successful products developed with AI integration\n",
      "- Overview of key players in the industry leading the way in AI-driven product development\n",
      "III. Target Audience Analysis\n",
      "- Tech-savvy individuals interested in AI technology and product development\n",
      "- Entrepreneurs looking to streamline their product development process using AI\n",
      "- Business professionals seeking to understand the benefits of AI in creating new products\n",
      "IV. Key Points\n",
      "- Benefits of using AI in product development, such as increased efficiency and accuracy\n",
      "- Challenges and considerations when integrating AI into the product development process\n",
      "- Best practices for leveraging AI technology to build successful products\n",
      "V. Call to Action\n",
      "- Encouragement for readers to explore AI tools and resources for their own product development projects\n",
      "- Invitation to share their experiences and insights on using AI in product development\n",
      "VI. SEO Keywords\n",
      "- AI product development, AI technology in product creation, building new products with AI assistance\n",
      "VII. Resources\n",
      "- Case studies of companies successfully utilizing AI in product development\n",
      "- Industry reports on the impact of AI technology on product innovation\n",
      "- Expert opinions on the future of AI-assisted product development\n",
      "\n",
      "By following this comprehensive content plan, the blog article on building a new product with the assistance of AI will provide valuable insights and information for the target audience, helping them make informed decisions and stay up-to-date on the latest trends in AI technology.\u001b[0m\n",
      "\n",
      "\u001b[1m> Finished chain.\u001b[0m\n",
      "\u001b[1m\u001b[92m [DEBUG]: == [Content Planner] Task output: Content Plan: Building a New Product with the Assistance of AI\n",
      "\n",
      "Outline:\n",
      "I. Introduction\n",
      "- Brief overview of the growing trend of using AI in product development\n",
      "- Importance of leveraging AI technology in creating innovative products\n",
      "II. Latest Trends in AI-assisted Product Development\n",
      "- Examples of successful products developed with AI integration\n",
      "- Overview of key players in the industry leading the way in AI-driven product development\n",
      "III. Target Audience Analysis\n",
      "- Tech-savvy individuals interested in AI technology and product development\n",
      "- Entrepreneurs looking to streamline their product development process using AI\n",
      "- Business professionals seeking to understand the benefits of AI in creating new products\n",
      "IV. Key Points\n",
      "- Benefits of using AI in product development, such as increased efficiency and accuracy\n",
      "- Challenges and considerations when integrating AI into the product development process\n",
      "- Best practices for leveraging AI technology to build successful products\n",
      "V. Call to Action\n",
      "- Encouragement for readers to explore AI tools and resources for their own product development projects\n",
      "- Invitation to share their experiences and insights on using AI in product development\n",
      "VI. SEO Keywords\n",
      "- AI product development, AI technology in product creation, building new products with AI assistance\n",
      "VII. Resources\n",
      "- Case studies of companies successfully utilizing AI in product development\n",
      "- Industry reports on the impact of AI technology on product innovation\n",
      "- Expert opinions on the future of AI-assisted product development\n",
      "\n",
      "By following this comprehensive content plan, the blog article on building a new product with the assistance of AI will provide valuable insights and information for the target audience, helping them make informed decisions and stay up-to-date on the latest trends in AI technology.\n",
      "\n",
      "\u001b[00m\n",
      "\u001b[1m\u001b[95m [DEBUG]: == Working Agent: Content Writer\u001b[00m\n",
      "\u001b[1m\u001b[95m [INFO]: == Starting Task: 1. Use the content plan to craft a compelling blog post on Building a new product with the assitance of AI..\n",
      "2. Incorporate SEO keywords naturally.\n",
      "3. Sections/Subtitles are properly named in an engaging manner.\n",
      "4. Ensure the post is structured with an engaging introduction, insightful body, and a summarizing conclusion.\n",
      "5. Proofread for grammatical errors and alignment with the brand's voice.\n",
      "\u001b[00m\n",
      "\n",
      "\n",
      "\u001b[1m> Entering new CrewAgentExecutor chain...\u001b[0m\n",
      "\u001b[32;1m\u001b[1;3mI now can give a great answer\n",
      "\n",
      "Final Answer:\n",
      "# Building a New Product with the Assistance of AI\n",
      "\n",
      "In today's rapidly evolving technological landscape, the use of Artificial Intelligence (AI) in product development has become a prevalent trend. Leveraging AI technology has proven to be instrumental in creating innovative products that are efficient, accurate, and cater to the evolving needs of consumers. As companies strive to stay ahead of the curve and deliver cutting-edge solutions, integrating AI into the product development process has become a crucial strategy.\n",
      "\n",
      "One of the latest trends in AI-assisted product development is the successful implementation of AI algorithms and machine learning techniques to streamline the creation of new products. Companies like Google, Amazon, and Tesla have been at the forefront of utilizing AI to develop products that not only meet consumer demands but also anticipate future trends. By harnessing the power of AI, these industry leaders have been able to enhance the efficiency and effectiveness of their product development processes, ultimately delivering superior products to the market.\n",
      "\n",
      "Understanding the importance of AI in product development is essential for tech-savvy individuals, entrepreneurs, and business professionals alike. By embracing AI technology, these individuals can streamline their product development process, improve decision-making, and gain a competitive edge in the market. With the benefits of increased efficiency and accuracy that AI offers, building new products with the assistance of AI has become a game-changer in the industry.\n",
      "\n",
      "As we delve deeper into the realm of AI-assisted product development, it is crucial to recognize the challenges and considerations that come with integrating AI into the product development process. From data privacy concerns to the need for specialized skills and expertise, there are various factors to consider when leveraging AI technology. However, by following best practices and staying informed on the latest trends in AI product development, companies can overcome these challenges and build successful products that resonate with their target audience.\n",
      "\n",
      "In conclusion, the future of product development lies in harnessing the power of AI technology. By embracing AI tools and resources, companies can create innovative products that not only meet consumer needs but also drive business growth. As we continue to explore the possibilities of AI-assisted product development, it is essential for readers to stay informed, experiment with AI technologies, and share their experiences with the community. Together, we can unlock the full potential of AI in building new products and shaping the future of innovation.\n",
      "\n",
      "**SEO Keywords:** AI product development, AI technology in product creation, building new products with AI assistance\n",
      "\n",
      "**Resources:** \n",
      "- Case studies of companies successfully utilizing AI in product development\n",
      "- Industry reports on the impact of AI technology on product innovation\n",
      "- Expert opinions on the future of AI-assisted product development\u001b[0m\n",
      "\n",
      "\u001b[1m> Finished chain.\u001b[0m\n",
      "\u001b[1m\u001b[92m [DEBUG]: == [Content Writer] Task output: # Building a New Product with the Assistance of AI\n",
      "\n",
      "In today's rapidly evolving technological landscape, the use of Artificial Intelligence (AI) in product development has become a prevalent trend. Leveraging AI technology has proven to be instrumental in creating innovative products that are efficient, accurate, and cater to the evolving needs of consumers. As companies strive to stay ahead of the curve and deliver cutting-edge solutions, integrating AI into the product development process has become a crucial strategy.\n",
      "\n",
      "One of the latest trends in AI-assisted product development is the successful implementation of AI algorithms and machine learning techniques to streamline the creation of new products. Companies like Google, Amazon, and Tesla have been at the forefront of utilizing AI to develop products that not only meet consumer demands but also anticipate future trends. By harnessing the power of AI, these industry leaders have been able to enhance the efficiency and effectiveness of their product development processes, ultimately delivering superior products to the market.\n",
      "\n",
      "Understanding the importance of AI in product development is essential for tech-savvy individuals, entrepreneurs, and business professionals alike. By embracing AI technology, these individuals can streamline their product development process, improve decision-making, and gain a competitive edge in the market. With the benefits of increased efficiency and accuracy that AI offers, building new products with the assistance of AI has become a game-changer in the industry.\n",
      "\n",
      "As we delve deeper into the realm of AI-assisted product development, it is crucial to recognize the challenges and considerations that come with integrating AI into the product development process. From data privacy concerns to the need for specialized skills and expertise, there are various factors to consider when leveraging AI technology. However, by following best practices and staying informed on the latest trends in AI product development, companies can overcome these challenges and build successful products that resonate with their target audience.\n",
      "\n",
      "In conclusion, the future of product development lies in harnessing the power of AI technology. By embracing AI tools and resources, companies can create innovative products that not only meet consumer needs but also drive business growth. As we continue to explore the possibilities of AI-assisted product development, it is essential for readers to stay informed, experiment with AI technologies, and share their experiences with the community. Together, we can unlock the full potential of AI in building new products and shaping the future of innovation.\n",
      "\n",
      "**SEO Keywords:** AI product development, AI technology in product creation, building new products with AI assistance\n",
      "\n",
      "**Resources:** \n",
      "- Case studies of companies successfully utilizing AI in product development\n",
      "- Industry reports on the impact of AI technology on product innovation\n",
      "- Expert opinions on the future of AI-assisted product development\n",
      "\n",
      "\u001b[00m\n",
      "\u001b[1m\u001b[95m [DEBUG]: == Working Agent: Editor\u001b[00m\n",
      "\u001b[1m\u001b[95m [INFO]: == Starting Task: Proofread the given blog post for grammatical errors and alignment with the brand's voice.\u001b[00m\n",
      "\n",
      "\n",
      "\u001b[1m> Entering new CrewAgentExecutor chain...\u001b[0m\n",
      "\u001b[32;1m\u001b[1;3mI now can give a great answer\n",
      "\n",
      "Final Answer:\n",
      "# Building a New Product with the Assistance of AI\n",
      "\n",
      "In today's rapidly evolving technological landscape, the integration of Artificial Intelligence (AI) in product development has emerged as a prominent trend. The utilization of AI technology has proven to be pivotal in the creation of innovative products that are not only efficient and accurate but also cater to the ever-changing needs of consumers. With companies striving to maintain a competitive edge and provide cutting-edge solutions, the incorporation of AI into the product development process has become a strategic imperative.\n",
      "\n",
      "A notable trend in AI-assisted product development is the successful deployment of AI algorithms and machine learning techniques to streamline the process of creating new products. Leading companies such as Google, Amazon, and Tesla have been pioneers in leveraging AI to develop products that not only satisfy consumer demands but also forecast future trends. Through the harnessing of AI capabilities, these industry giants have been able to optimize the efficiency and effectiveness of their product development workflows, ultimately delivering superior products to the market.\n",
      "\n",
      "Recognizing the significance of AI in product development is crucial for tech enthusiasts, entrepreneurs, and business professionals alike. By embracing AI technology, these individuals can enhance their product development workflow, enhance decision-making processes, and gain a competitive advantage in the marketplace. With the advantages of increased efficiency and precision that AI provides, the incorporation of AI assistance in building new products has become a game-changer in the industry.\n",
      "\n",
      "As we delve deeper into the realm of AI-assisted product development, it is imperative to acknowledge the challenges and considerations associated with integrating AI into the product development lifecycle. From concerns regarding data privacy to the necessity for specialized skills and expertise, there are multiple factors to take into account when leveraging AI technology. Nevertheless, by adhering to best practices and staying abreast of the latest trends in AI product development, companies can overcome these obstacles and develop successful products that resonate with their target audience.\n",
      "\n",
      "In conclusion, the future of product development hinges on harnessing the potential of AI technology. Through the adoption of AI tools and resources, companies can create groundbreaking products that not only address consumer needs but also foster business growth. As we continue to explore the possibilities of AI-assisted product development, it is essential for readers to remain informed, experiment with AI technologies, and share their insights with the wider community. Together, we can unlock the full capabilities of AI in shaping the future of innovation.\n",
      "\n",
      "**SEO Keywords:** AI product development, AI technology in product creation, building new products with AI assistance\n",
      "\n",
      "**Resources:** \n",
      "- Case studies of companies successfully utilizing AI in product development\n",
      "- Industry reports on the impact of AI technology on product innovation\n",
      "- Expert opinions on the future of AI-assisted product development\u001b[0m\n",
      "\n",
      "\u001b[1m> Finished chain.\u001b[0m\n",
      "\u001b[1m\u001b[92m [DEBUG]: == [Editor] Task output: # Building a New Product with the Assistance of AI\n",
      "\n",
      "In today's rapidly evolving technological landscape, the integration of Artificial Intelligence (AI) in product development has emerged as a prominent trend. The utilization of AI technology has proven to be pivotal in the creation of innovative products that are not only efficient and accurate but also cater to the ever-changing needs of consumers. With companies striving to maintain a competitive edge and provide cutting-edge solutions, the incorporation of AI into the product development process has become a strategic imperative.\n",
      "\n",
      "A notable trend in AI-assisted product development is the successful deployment of AI algorithms and machine learning techniques to streamline the process of creating new products. Leading companies such as Google, Amazon, and Tesla have been pioneers in leveraging AI to develop products that not only satisfy consumer demands but also forecast future trends. Through the harnessing of AI capabilities, these industry giants have been able to optimize the efficiency and effectiveness of their product development workflows, ultimately delivering superior products to the market.\n",
      "\n",
      "Recognizing the significance of AI in product development is crucial for tech enthusiasts, entrepreneurs, and business professionals alike. By embracing AI technology, these individuals can enhance their product development workflow, enhance decision-making processes, and gain a competitive advantage in the marketplace. With the advantages of increased efficiency and precision that AI provides, the incorporation of AI assistance in building new products has become a game-changer in the industry.\n",
      "\n",
      "As we delve deeper into the realm of AI-assisted product development, it is imperative to acknowledge the challenges and considerations associated with integrating AI into the product development lifecycle. From concerns regarding data privacy to the necessity for specialized skills and expertise, there are multiple factors to take into account when leveraging AI technology. Nevertheless, by adhering to best practices and staying abreast of the latest trends in AI product development, companies can overcome these obstacles and develop successful products that resonate with their target audience.\n",
      "\n",
      "In conclusion, the future of product development hinges on harnessing the potential of AI technology. Through the adoption of AI tools and resources, companies can create groundbreaking products that not only address consumer needs but also foster business growth. As we continue to explore the possibilities of AI-assisted product development, it is essential for readers to remain informed, experiment with AI technologies, and share their insights with the wider community. Together, we can unlock the full capabilities of AI in shaping the future of innovation.\n",
      "\n",
      "**SEO Keywords:** AI product development, AI technology in product creation, building new products with AI assistance\n",
      "\n",
      "**Resources:** \n",
      "- Case studies of companies successfully utilizing AI in product development\n",
      "- Industry reports on the impact of AI technology on product innovation\n",
      "- Expert opinions on the future of AI-assisted product development\n",
      "\n",
      "\u001b[00m\n"
     ]
    }
   ],
   "source": [
    "result = crew.kickoff(inputs={\"topic\":\"Building a new product with the assitance of AI.\"})"
   ]
  },
  {
   "cell_type": "markdown",
   "metadata": {},
   "source": [
    "- Display the results of your execution as markdown in the notebook."
   ]
  },
  {
   "cell_type": "code",
   "execution_count": 14,
   "metadata": {
    "height": 47
   },
   "outputs": [
    {
     "data": {
      "text/markdown": [
       "# Building a New Product with the Assistance of AI\n",
       "\n",
       "In today's rapidly evolving technological landscape, the integration of Artificial Intelligence (AI) in product development has emerged as a prominent trend. The utilization of AI technology has proven to be pivotal in the creation of innovative products that are not only efficient and accurate but also cater to the ever-changing needs of consumers. With companies striving to maintain a competitive edge and provide cutting-edge solutions, the incorporation of AI into the product development process has become a strategic imperative.\n",
       "\n",
       "A notable trend in AI-assisted product development is the successful deployment of AI algorithms and machine learning techniques to streamline the process of creating new products. Leading companies such as Google, Amazon, and Tesla have been pioneers in leveraging AI to develop products that not only satisfy consumer demands but also forecast future trends. Through the harnessing of AI capabilities, these industry giants have been able to optimize the efficiency and effectiveness of their product development workflows, ultimately delivering superior products to the market.\n",
       "\n",
       "Recognizing the significance of AI in product development is crucial for tech enthusiasts, entrepreneurs, and business professionals alike. By embracing AI technology, these individuals can enhance their product development workflow, enhance decision-making processes, and gain a competitive advantage in the marketplace. With the advantages of increased efficiency and precision that AI provides, the incorporation of AI assistance in building new products has become a game-changer in the industry.\n",
       "\n",
       "As we delve deeper into the realm of AI-assisted product development, it is imperative to acknowledge the challenges and considerations associated with integrating AI into the product development lifecycle. From concerns regarding data privacy to the necessity for specialized skills and expertise, there are multiple factors to take into account when leveraging AI technology. Nevertheless, by adhering to best practices and staying abreast of the latest trends in AI product development, companies can overcome these obstacles and develop successful products that resonate with their target audience.\n",
       "\n",
       "In conclusion, the future of product development hinges on harnessing the potential of AI technology. Through the adoption of AI tools and resources, companies can create groundbreaking products that not only address consumer needs but also foster business growth. As we continue to explore the possibilities of AI-assisted product development, it is essential for readers to remain informed, experiment with AI technologies, and share their insights with the wider community. Together, we can unlock the full capabilities of AI in shaping the future of innovation.\n",
       "\n",
       "**SEO Keywords:** AI product development, AI technology in product creation, building new products with AI assistance\n",
       "\n",
       "**Resources:** \n",
       "- Case studies of companies successfully utilizing AI in product development\n",
       "- Industry reports on the impact of AI technology on product innovation\n",
       "- Expert opinions on the future of AI-assisted product development"
      ],
      "text/plain": [
       "<IPython.core.display.Markdown object>"
      ]
     },
     "execution_count": 14,
     "metadata": {},
     "output_type": "execute_result"
    }
   ],
   "source": [
    "from IPython.display import Markdown\n",
    "Markdown(result)"
   ]
  }
 ],
 "metadata": {
  "colab": {
   "gpuType": "T4",
   "provenance": []
  },
  "kernelspec": {
   "display_name": "Python 3 (ipykernel)",
   "language": "python",
   "name": "python3"
  },
  "language_info": {
   "codemirror_mode": {
    "name": "ipython",
    "version": 3
   },
   "file_extension": ".py",
   "mimetype": "text/x-python",
   "name": "python",
   "nbconvert_exporter": "python",
   "pygments_lexer": "ipython3",
   "version": "3.11.8"
  }
 },
 "nbformat": 4,
 "nbformat_minor": 4
}
